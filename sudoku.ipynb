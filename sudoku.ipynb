{
 "cells": [
  {
   "attachments": {},
   "cell_type": "markdown",
   "metadata": {},
   "source": [
    "### Sudoku Solver\n",
    "\n",
    "Utlising back-tracking to solve sudoku puzzles- based off of the [Computerphile video](https://www.youtube.com/watch?v=G_UYXzGuqvM)"
   ]
  },
  {
   "cell_type": "code",
   "execution_count": 3,
   "metadata": {},
   "outputs": [],
   "source": [
    "import numpy as np\n",
    "\n",
    "grid = [\n",
    "    [5,3,0,0,7,0,0,0,0],\n",
    "    [6,0,0,1,9,5,0,0,0],\n",
    "    [0,9,8,0,0,0,0,6,0],\n",
    "    [8,0,0,0,6,0,0,0,3],\n",
    "    [4,0,0,8,0,3,0,0,1],\n",
    "    [7,0,0,0,2,0,0,0,6],\n",
    "    [0,6,0,0,0,0,2,8,0],\n",
    "    [0,0,0,4,1,9,0,0,5],\n",
    "    [0,0,0,0,8,0,0,7,9],\n",
    "    ]\n",
    "\n",
    "\n",
    "def possible(r,c,n):\n",
    "    global grid\n",
    "\n",
    "    # Check if n in row\n",
    "    for i in range(9):\n",
    "        if grid[r][i] == n : return False\n",
    "\n",
    "    # Check if n in column.\n",
    "    for i in range(9):\n",
    "        if grid[i][c] == n : return False\n",
    "\n",
    "    # Check if n in 3x3 square.\n",
    "    r0 = (r // 3) * 3\n",
    "    c0 = (c // 3) * 3\n",
    "    for i in range(3):\n",
    "        for j in range(3):\n",
    "            if grid[r0+i][c0+j] == n : return False\n",
    "    \n",
    "    return True\n",
    "\n",
    "\n",
    "def solve():\n",
    "    global grid\n",
    "    for r in range(9):\n",
    "        for c in range(9):\n",
    "            if grid[r][c] == 0:\n",
    "                for n in range(1,10):\n",
    "                    if possible(r,c,n):\n",
    "                        grid[r][c] = n\n",
    "                        solve()\n",
    "                        \n",
    "                        # Back-track here\n",
    "                        grid[r][c] = 0\n",
    "                return\n",
    "    print(np.matrix(grid))\n"
   ]
  },
  {
   "cell_type": "code",
   "execution_count": 4,
   "metadata": {},
   "outputs": [
    {
     "name": "stdout",
     "output_type": "stream",
     "text": [
      "[[5 3 4 6 7 8 9 1 2]\n",
      " [6 7 2 1 9 5 3 4 8]\n",
      " [1 9 8 3 4 2 5 6 7]\n",
      " [8 5 9 7 6 1 4 2 3]\n",
      " [4 2 6 8 5 3 7 9 1]\n",
      " [7 1 3 9 2 4 8 5 6]\n",
      " [9 6 1 5 3 7 2 8 4]\n",
      " [2 8 7 4 1 9 6 3 5]\n",
      " [3 4 5 2 8 6 1 7 9]]\n"
     ]
    }
   ],
   "source": [
    "solve()"
   ]
  },
  {
   "cell_type": "code",
   "execution_count": null,
   "metadata": {},
   "outputs": [],
   "source": []
  }
 ],
 "metadata": {
  "kernelspec": {
   "display_name": "mpgbrrr",
   "language": "python",
   "name": "python3"
  },
  "language_info": {
   "codemirror_mode": {
    "name": "ipython",
    "version": 3
   },
   "file_extension": ".py",
   "mimetype": "text/x-python",
   "name": "python",
   "nbconvert_exporter": "python",
   "pygments_lexer": "ipython3",
   "version": "3.9.7"
  },
  "orig_nbformat": 4,
  "vscode": {
   "interpreter": {
    "hash": "5587a9c69219e48718702ea188a8ba54a0974a1af8bba780a43ca228be90566b"
   }
  }
 },
 "nbformat": 4,
 "nbformat_minor": 2
}
